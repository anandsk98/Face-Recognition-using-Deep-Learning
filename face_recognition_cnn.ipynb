{
 "cells": [
  {
   "cell_type": "code",
   "execution_count": 3,
   "metadata": {},
   "outputs": [],
   "source": [
    "from PIL import Image\n",
    "from keras.applications.vgg16 import preprocess_input\n",
    "import base64\n",
    "from io import BytesIO\n",
    "import json\n",
    "import random\n",
    "import cv2\n",
    "from keras.models import load_model\n",
    "import numpy as np\n",
    "from keras.preprocessing import image"
   ]
  },
  {
   "cell_type": "code",
   "execution_count": 62,
   "metadata": {},
   "outputs": [],
   "source": [
    "model = load_model('anand_vgg16_model.h5')"
   ]
  },
  {
   "cell_type": "code",
   "execution_count": 5,
   "metadata": {},
   "outputs": [],
   "source": [
    "face_cascade = cv2.CascadeClassifier('haarcascade_frontalface_default.xml')"
   ]
  },
  {
   "cell_type": "code",
   "execution_count": 74,
   "metadata": {},
   "outputs": [
    {
     "name": "stdout",
     "output_type": "stream",
     "text": [
      "[[1249 1648  653  653]\n",
      " [ 575 3157  126  126]]\n"
     ]
    }
   ],
   "source": [
    "img=cv2.imread('dataset/single_prediction/3.jpg',-1)\n",
    "cv2.namedWindow('input image', cv2.WINDOW_NORMAL)\n",
    "cv2.imshow('input image',img)\n",
    "\n",
    "gray= cv2.cvtColor(img,cv2.COLOR_BGR2GRAY)\n",
    "\n",
    "\n",
    "faces = face_cascade.detectMultiScale(gray, 1.3, 5) #faces will store the information of all the faces as an array\n",
    "print(faces)\n",
    "\n",
    "for (x, y, w, h) in faces:\n",
    "        \n",
    "    cv2.rectangle(img, (x, y), (x+w, y+h), (255, 0, 0), 2)\n",
    "    cv2.namedWindow('face detection result', cv2.WINDOW_NORMAL)\n",
    "    cv2.imshow('face detection result',img) \n",
    "    cropped_face = img[y:y+h, x:x+w]\n",
    "    break\n",
    "\n",
    "cv2.waitKey(0)    \n",
    "cv2.destroyAllWindows()     "
   ]
  },
  {
   "cell_type": "code",
   "execution_count": 43,
   "metadata": {},
   "outputs": [
    {
     "data": {
      "text/plain": [
       "numpy.ndarray"
      ]
     },
     "execution_count": 43,
     "metadata": {},
     "output_type": "execute_result"
    }
   ],
   "source": [
    "type(cropped_face)"
   ]
  },
  {
   "cell_type": "code",
   "execution_count": 17,
   "metadata": {},
   "outputs": [
    {
     "data": {
      "text/plain": [
       "True"
      ]
     },
     "execution_count": 17,
     "metadata": {},
     "output_type": "execute_result"
    }
   ],
   "source": [
    "cv2.imwrite('dataset/single_prediction/output.jpg',cropped_face)"
   ]
  },
  {
   "cell_type": "code",
   "execution_count": 81,
   "metadata": {},
   "outputs": [
    {
     "name": "stdout",
     "output_type": "stream",
     "text": [
      "<PIL.Image.Image image mode=RGB size=224x224 at 0x188018134F0>\n",
      "[[0.]]\n"
     ]
    }
   ],
   "source": [
    "if type(cropped_face) is np.ndarray:\n",
    "    test_image = cv2.resize(cropped_face, (224, 224))\n",
    "    test_image = Image.fromarray(test_image,'RGB')\n",
    "    print(test_image)\n",
    "    test_image = image.img_to_array(test_image)#predict method expects a 2 d array\n",
    "    test_image = np.expand_dims(test_image, axis = 0)#to fit in batch of 32\n",
    "    pred = model.predict(test_image)\n",
    "    print(pred)\n",
    "    #training_set.class_indices#print this to know whether 0=cat or dog \n",
    "    if pred[0][0] == 1:\n",
    "      prediction = 'unknown'\n",
    "    else:\n",
    "      prediction = 'anand'\n",
    "else:\n",
    "    cv2.putText(cropped_face,\"No face found\", (50, 50), cv2.FONT_HERSHEY_COMPLEX, 1, (0,255,0), 2)"
   ]
  },
  {
   "cell_type": "code",
   "execution_count": 80,
   "metadata": {},
   "outputs": [
    {
     "name": "stdout",
     "output_type": "stream",
     "text": [
      "anand\n"
     ]
    }
   ],
   "source": [
    "print(prediction)"
   ]
  },
  {
   "cell_type": "code",
   "execution_count": null,
   "metadata": {},
   "outputs": [],
   "source": []
  }
 ],
 "metadata": {
  "kernelspec": {
   "display_name": "Python 3",
   "language": "python",
   "name": "python3"
  },
  "language_info": {
   "codemirror_mode": {
    "name": "ipython",
    "version": 3
   },
   "file_extension": ".py",
   "mimetype": "text/x-python",
   "name": "python",
   "nbconvert_exporter": "python",
   "pygments_lexer": "ipython3",
   "version": "3.8.5"
  }
 },
 "nbformat": 4,
 "nbformat_minor": 4
}
